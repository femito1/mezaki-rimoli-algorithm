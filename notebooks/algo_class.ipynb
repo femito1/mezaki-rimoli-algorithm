{
 "cells": [
  {
   "cell_type": "code",
   "execution_count": null,
   "id": "578acc0f",
   "metadata": {},
   "outputs": [],
   "source": [
    "import numpy as np\n",
    "import pandas as pd\n",
    "import yfinance as yf\n",
    "import matplotlib.pyplot as plt\n",
    "import mplfinance as mpl"
   ]
  },
  {
   "cell_type": "code",
   "execution_count": null,
   "id": "516d37c2",
   "metadata": {},
   "outputs": [],
   "source": [
    "class Base:\n",
    "\n",
    "    def __init__(self, ticker, name=\"\"):\n",
    "\n",
    "        self.name = name\n",
    "        self.ticker = ticker\n",
    "        self.df = yf.download(ticker, start=\"2000-01-01\", group_by=\"column\", auto_adjust=False)\n",
    "        day = np.arange(1, len(self.df) + 1)\n",
    "        self.df['Day'] = day\n",
    "        self.df = self.df[['Day', 'Open', 'High', 'Low', 'Close']]\n",
    "        self.df['return'] = np.log(self.df['Close']).diff()\n",
    "        self.df.columns = [c[0] if isinstance(c, tuple) else c for c in self.df.columns]\n",
    "        \n",
    "\n",
    "    def strat(self):\n",
    "        pass\n",
    "\n",
    "    def sharpe(self, annualize: bool = True, risk_free_annual: float = 0.0, show_explain: bool = False):\n",
    "        def explain():\n",
    "            print(\"Sharpe ratio: mean excess return divided by volatility.\\n\"\n",
    "                  \"- > 1 is decent, > 2 is strong, > 3 is exceptional.\\n\"\n",
    "                  \"- Here we use log daily returns; annualized by sqrt(252) if selected.\")\n",
    "        r = self.df['return'].dropna()  # log returns\n",
    "        rf_log_daily = np.log(1 + risk_free_annual) / 252.0\n",
    "        excess = r - rf_log_daily\n",
    "        sharpe_daily = excess.mean() / excess.std()\n",
    "        if show_explain:\n",
    "            explain()\n",
    "        return (np.sqrt(252.0) * sharpe_daily) if annualize else sharpe_daily\n",
    "\n",
    "    def sortino(self, target_return: float = 0.0, annualize: bool = True, show_explain: bool = False):\n",
    "        def explain():\n",
    "            print(\"Sortino ratio: mean excess return over downside volatility (penalizes only losses).\\n\"\n",
    "                  \"- Higher is better; less sensitive to upside spikes than Sharpe.\\n\"\n",
    "                  \"- Annualized by sqrt(252) if selected.\")\n",
    "        r = self.df['return'].dropna()\n",
    "        downside = np.minimum(r - target_return, 0.0)\n",
    "        downside_dev = np.sqrt((downside ** 2).mean())\n",
    "        if downside_dev == 0:\n",
    "            if show_explain:\n",
    "                explain()\n",
    "            return np.nan\n",
    "        ratio = (r.mean() - target_return) / downside_dev\n",
    "        if show_explain:\n",
    "            explain()\n",
    "        return (np.sqrt(252.0) * ratio) if annualize else ratio\n",
    "\n",
    "    def omega(self, threshold: float = 0.0, show_explain: bool = False):\n",
    "        def explain():\n",
    "            print(\"Omega ratio: total gains above a threshold divided by total shortfalls below it.\\n\"\n",
    "                  \"- =1 is breakeven; >1 indicates more mass above threshold than below.\\n\"\n",
    "                  \"- Common threshold is 0 (no-return).\")\n",
    "        r = self.df['return'].dropna()\n",
    "        gains = np.clip(r - threshold, a_min=0.0, a_max=None).sum()\n",
    "        losses = np.clip(threshold - r, a_min=0.0, a_max=None).sum()\n",
    "        if show_explain:\n",
    "            explain()\n",
    "        return np.inf if losses == 0 else (gains / losses).item()\n",
    "\n",
    "    def max_drawdown(self, show_explain: bool = False):\n",
    "        def explain():\n",
    "            print(\"Max Drawdown: the worst peak-to-trough decline of the equity curve.\\n\"\n",
    "                  \"- Expressed as a negative fraction; closer to 0 is better.\\n\"\n",
    "                  \"- Captures tail risk not seen by volatility alone.\")\n",
    "        equity = np.exp(self.df['return'].fillna(0)).cumprod()\n",
    "        drawdown = equity / equity.cummax() - 1.0\n",
    "        mdd = drawdown.min()\n",
    "        if show_explain:\n",
    "            explain()\n",
    "        return mdd\n",
    "    \n",
    "    def calmar(self, show_explain: bool = False):\n",
    "        def explain():\n",
    "            print(\"Calmar ratio: CAGR divided by absolute Max Drawdown.\\n\"\n",
    "                  \"- Higher is better; balances return with worst-case loss.\\n\"\n",
    "                  \"- Useful for trend strategies and long-term performance.\")\n",
    "        cagr_value = self.cagr()\n",
    "        max_dd = abs(self.max_drawdown())\n",
    "        if max_dd == 0:\n",
    "            if show_explain:\n",
    "                explain()\n",
    "            return np.nan\n",
    "        if show_explain:\n",
    "            explain()\n",
    "        return cagr_value / max_dd\n",
    "\n",
    "    def cagr(self, show_explain: bool = False):\n",
    "        def explain():\n",
    "            print(\"CAGR: the constant annual growth rate that compounds to the final equity.\\n\"\n",
    "                  \"- Ignores path; complements drawdown-based risk measures.\\n\"\n",
    "                  \"- Not comparable across very short samples.\")\n",
    "        r = self.df['return'].fillna(0)\n",
    "        equity = np.exp(r).cumprod()\n",
    "        num_days = len(equity)\n",
    "        if num_days <= 1:\n",
    "            if show_explain:\n",
    "                explain()\n",
    "            return np.nan\n",
    "        years = num_days / 252.0\n",
    "        ending_value = equity.iloc[-1]\n",
    "        cagr_value = ending_value ** (1.0 / years) - 1.0\n",
    "        if show_explain:\n",
    "            explain()\n",
    "        return cagr_value\n",
    "    \n",
    "    def report_card(self):\n",
    "        print(self.name)\n",
    "        print(\"CAGR: \", self.cagr() * 100, '%')\n",
    "        print(\"Sharpe: \", self.sharpe())\n",
    "        print(\"Sortino: \", self.sortino())\n",
    "        print(\"Omega: \", self.omega())\n",
    "        print(\"Calmar: \", self.calmar())\n",
    "        print(\"Max Drawdown: \", self.max_drawdown() *100, '%')\n",
    "\n",
    "\n",
    "    def plot(self):\n",
    "        returns = np.exp(self.df['return']).cumprod() - 1\n",
    "        plt.style.use('ggplot')\n",
    "        plt.plot(returns, label=self.name +\" Returns\")\n",
    "        plt.grid(True, alpha=.3)\n",
    "        plt.legend(loc=2)"
   ]
  },
  {
   "cell_type": "code",
   "execution_count": 146,
   "id": "29db0867",
   "metadata": {},
   "outputs": [
    {
     "name": "stderr",
     "output_type": "stream",
     "text": [
      "[*********************100%***********************]  1 of 1 completed\n"
     ]
    }
   ],
   "source": [
    "spy = Base(\"QQQ\", \"Buy and Hold Nasdaq\")"
   ]
  },
  {
   "cell_type": "code",
   "execution_count": 147,
   "id": "ce5915f0",
   "metadata": {},
   "outputs": [
    {
     "name": "stdout",
     "output_type": "stream",
     "text": [
      "<class 'pandas.core.frame.DataFrame'>\n",
      "DatetimeIndex: 6468 entries, 2000-01-03 to 2025-09-19\n",
      "Data columns (total 6 columns):\n",
      " #   Column  Non-Null Count  Dtype  \n",
      "---  ------  --------------  -----  \n",
      " 0   Day     6468 non-null   int64  \n",
      " 1   Open    6468 non-null   float64\n",
      " 2   High    6468 non-null   float64\n",
      " 3   Low     6468 non-null   float64\n",
      " 4   Close   6468 non-null   float64\n",
      " 5   return  6467 non-null   float64\n",
      "dtypes: float64(5), int64(1)\n",
      "memory usage: 353.7 KB\n"
     ]
    }
   ],
   "source": [
    "spy.df.info()"
   ]
  },
  {
   "cell_type": "code",
   "execution_count": 148,
   "id": "b084d0c6",
   "metadata": {},
   "outputs": [
    {
     "data": {
      "image/png": "[encoded data removed]",
      "text/plain": [
       "<Figure size 640x480 with 1 Axes>"
      ]
     },
     "metadata": {},
     "output_type": "display_data"
    }
   ],
   "source": [
    "spy.df['Open'] = np.float32(spy.df['Open'])\n",
    "spy.plot()\n"
   ]
  },
  {
   "cell_type": "code",
   "execution_count": 149,
   "id": "7e1e688f",
   "metadata": {},
   "outputs": [
    {
     "name": "stdout",
     "output_type": "stream",
     "text": [
      "Buy and Hold Nasdaq\n",
      "CAGR:  7.4513157725686785 %\n",
      "Sharpe:  0.26674689606038865\n",
      "Sortino:  0.37293868325620494\n",
      "Omega:  1.0517419779362862\n",
      "Calmar:  0.08981394486880746\n",
      "Max Drawdown:  -82.96390703529306 %\n",
      "Omega ratio: total gains above a threshold divided by total shortfalls below it.\n",
      "- =1 is breakeven; >1 indicates more mass above threshold than below.\n",
      "- Common threshold is 0 (no-return).\n"
     ]
    },
    {
     "data": {
      "text/plain": [
       "1.0517419779362862"
      ]
     },
     "execution_count": 149,
     "metadata": {},
     "output_type": "execute_result"
    }
   ],
   "source": [
    "spy.report_card()\n",
    "spy.omega(show_explain=True)"
   ]
  }
 ],
 "metadata": {
  "kernelspec": {
   "display_name": "trading-algo",
   "language": "python",
   "name": "python3"
  },
  "language_info": {
   "codemirror_mode": {
    "name": "ipython",
    "version": 3
   },
   "file_extension": ".py",
   "mimetype": "text/x-python",
   "name": "python",
   "nbconvert_exporter": "python",
   "pygments_lexer": "ipython3",
   "version": "3.12.3"
  }
 },
 "nbformat": 4,
 "nbformat_minor": 5
}
